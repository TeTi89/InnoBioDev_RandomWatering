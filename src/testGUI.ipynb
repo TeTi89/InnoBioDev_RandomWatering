{
 "cells": [
  {
   "cell_type": "code",
   "execution_count": 1,
   "metadata": {},
   "outputs": [],
   "source": [
    "import cv2\n",
    "import numpy as np"
   ]
  },
  {
   "cell_type": "code",
   "execution_count": 5,
   "metadata": {},
   "outputs": [],
   "source": [
    "def show_image(image):\n",
    "    cv2.imshow(\"image\", image)\n",
    "    cv2.waitKey(0)\n",
    "    cv2.destroyAllWindows() \n",
    "\n",
    "# load the image\n",
    "image_path = \"..\\data\\image00010.jpeg\"\n",
    "image = cv2.imread(image_path)\n",
    "    # convert the image to RGB\n",
    "image = cv2.cvtColor(image, cv2.COLOR_BGR2RGB)\n",
    "    # change the image to landscape mode\n",
    "if image.shape[0] > image.shape[1]:\n",
    "    image = cv2.rotate(image, cv2.ROTATE_90_CLOCKWISE)\n",
    "    # resize the image to 1280x960\n",
    "image = cv2.resize(image, (1280, 960))\n",
    "IMAGE = image\n",
    "\n",
    "show_image(IMAGE)"
   ]
  },
  {
   "cell_type": "code",
   "execution_count": 31,
   "metadata": {},
   "outputs": [
    {
     "name": "stdout",
     "output_type": "stream",
     "text": [
      "Max:  195\n",
      "Min:  95\n"
     ]
    }
   ],
   "source": [
    "kernel_size = 5\n",
    "# apply the filters\n",
    "image = IMAGE.copy()\n",
    "# apply median blur\n",
    "#image = cv2.medianBlur(image, kernel_size)\n",
    "# plot a contrl image in a new window\n",
    "#cv2.imshow(\"Control Image\", image)\n",
    "# apply the threshold\n",
    "channelA = cv2.cvtColor(image, cv2.COLOR_RGB2LAB)[:, :, 1] #all row, col, 2.channel\n",
    "#show_image(channelA)\n",
    "#print the max and min value of the channel\n",
    "print(\"Max: \", np.max(channelA))\n",
    "print(\"Min: \", np.min(channelA))\n",
    "channelA = cv2.inRange(channelA, 0, 125)\n",
    "#show_image(channelA)\n",
    "channelH = cv2.cvtColor(image, cv2.COLOR_RGB2HSV)[:, :, 0]\n",
    "channelH = cv2.inRange(channelH, 30, 70)\n",
    "#show_image(channelH)\n",
    "channelV = cv2.cvtColor(image, cv2.COLOR_RGB2HSV)[:, :, 2]\n",
    "channelV = cv2.inRange(channelV, 50, 250)\n",
    "#show_image(channelV)\n",
    "# apply erdoe\n",
    "kernel = np.ones((kernel_size, kernel_size), np.uint8)\n",
    "channelA = cv2.erode(channelA, kernel, iterations=1)\n",
    "channelH = cv2.erode(channelH, kernel, iterations=1)\n",
    "# combine the channels\n",
    "image = cv2.bitwise_or(channelA, channelH)\n",
    "image = cv2.bitwise_and(image, channelV)\n",
    "# apply closing\n",
    "image = cv2.dilate(image, kernel, iterations=2)\n",
    "image = cv2.erode(image, kernel, iterations=3)\n",
    "image = cv2.dilate(image, kernel, iterations=3)\n",
    "show_image(image)"
   ]
  }
 ],
 "metadata": {
  "kernelspec": {
   "display_name": "Python 3",
   "language": "python",
   "name": "python3"
  },
  "language_info": {
   "codemirror_mode": {
    "name": "ipython",
    "version": 3
   },
   "file_extension": ".py",
   "mimetype": "text/x-python",
   "name": "python",
   "nbconvert_exporter": "python",
   "pygments_lexer": "ipython3",
   "version": "3.11.4"
  }
 },
 "nbformat": 4,
 "nbformat_minor": 2
}
